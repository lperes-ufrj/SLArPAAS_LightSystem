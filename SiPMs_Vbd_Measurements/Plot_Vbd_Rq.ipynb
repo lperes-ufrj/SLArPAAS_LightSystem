{
 "cells": [
  {
   "cell_type": "code",
   "execution_count": 3,
   "metadata": {},
   "outputs": [],
   "source": [
    "import pandas as pd\n",
    "import matplotlib.pyplot as plt\n",
    "from scipy.stats import linregress\n",
    "import numpy as np\n",
    "import os\n",
    "import time\n",
    "import glob"
   ]
  },
  {
   "cell_type": "code",
   "execution_count": 4,
   "metadata": {},
   "outputs": [],
   "source": [
    "def my_makedirs(path):\n",
    "    if not os.path.isdir(path):\n",
    "        os.makedirs(path)"
   ]
  },
  {
   "cell_type": "code",
   "execution_count": 5,
   "metadata": {},
   "outputs": [],
   "source": [
    "def quenc_resistor(slope, unc):\n",
    "    rq = 1./slope\n",
    "    unc_rq = 1./(slope*slope)*unc\n",
    "    return rq, unc_rq"
   ]
  },
  {
   "cell_type": "code",
   "execution_count": 16,
   "metadata": {},
   "outputs": [],
   "source": [
    "def MeasurementsSiPMs(folder='84_Cold', measurement = 'vbd'):\n",
    "    # Specify the folder path\n",
    "    folder_path = './data/'+folder+'/*'\n",
    "    # Get a list of all CSV files in the folder\n",
    "    csv_files = glob.glob(os.path.join(folder_path, '*.csv'))\n",
    "\n",
    "    # String to check for\n",
    "    string_to_remove = \"IV\"\n",
    "\n",
    "    # Remove elements containing the string\n",
    "    filtered_list = [item for item in csv_files if string_to_remove not in item]\n",
    "\n",
    "    if measurement == 'rq':\n",
    "        rq_measuments = []\n",
    "        df_append_rq = pd.DataFrame()\n",
    "\n",
    "        filtered_list = [item for item in csv_files if measurement in item]\n",
    "        \n",
    "        print(filtered_list)\n",
    "        for csv_file in filtered_list: \n",
    "            df = pd.read_csv(csv_file, skiprows=1,header=None)\n",
    "            Voltage = np.array(df.iloc[:,1])\n",
    "            Current = np.array(df.iloc[:,2])\n",
    "            #print(Voltage)\n",
    "            if folder == '84_before':\n",
    "                # Select the range using boolean indexing\n",
    "                Current = [Current[id] for id,x in enumerate(Voltage) if x > 0.75 and x < 1.25]\n",
    "                Voltage = [x for x in Voltage if x > 0.75 and x < 1.25]\n",
    "            else:\n",
    "                Current = [Current[id] for id,x in enumerate(Voltage) if x > 1.5 and x <2.5]\n",
    "                Voltage = [x for x in Voltage if x > 1.5 and x <2.5]\n",
    "              \n",
    "            # Perform linear regression\n",
    "            result = linregress(Voltage, Current)\n",
    "            rq_measuments.append(quenc_resistor(result.slope,result.stderr))\n",
    "\n",
    "            slope = np.array(result.slope)\n",
    "            #print(csv_file[:-4])\n",
    "\n",
    "            plt.figure(dpi=150)\n",
    "            plt.scatter(Voltage, Current, label='Measument')\n",
    "            plt.plot(Voltage,slope * Voltage + result.intercept, color='red', label='Fit')\n",
    "            plt.xlabel('Voltage (V)')\n",
    "            plt.ylabel('Current (A)')\n",
    "            plt.legend(title = rf'p0 = {round(result.intercept,4)}$\\pm$ {round(result.intercept_stderr,6)}, p1 = {round(result.slope,5)}$\\pm$ {round(result.stderr,7)}')\n",
    "            plt.savefig(csv_file[:-4]+'_fit_rq.pdf', dpi = 150, format = 'pdf')\n",
    "            plt.close()\n",
    "        \n",
    "        # Save the data columns in a CSV file\n",
    "        rq_measuments = np.array(rq_measuments)\n",
    "        data = pd.DataFrame({\n",
    "        'Rq': rq_measuments[:,0],\n",
    "        'Std_Rq': rq_measuments[:,1],\n",
    "        #'Current Std (A)': currents_stds,\n",
    "        })\n",
    "        print(data)\n",
    "        df_append_rq = pd.concat([df_append_rq,data], ignore_index=True)\n",
    "        \n",
    "        return filtered_list\n",
    "    if measurement == 'vbd':\n",
    "        filtered_list = [item for item in filtered_list if 'rq' not in item]\n",
    "        return np.array([np.array(pd.read_csv(csv_file, header=None).iloc[:,1]) for csv_file in filtered_list]).reshape(-1)"
   ]
  },
  {
   "cell_type": "code",
   "execution_count": 17,
   "metadata": {},
   "outputs": [
    {
     "name": "stdout",
     "output_type": "stream",
     "text": [
      "['./data/84_Cold/08161710C_cold/IV_Curve_both_08161710C_cold_rq_7.csv', './data/84_Cold/08161710C_cold/IV_Curve_both_08161710C_cold_rq_6.csv', './data/84_Cold/08161710C_cold/IV_Curve_both_08161710C_cold_rq_5.csv', './data/84_Cold/08161710C_cold/IV_Curve_both_08161710C_cold_rq_8.csv', './data/84_Cold/08161710C_cold/IV_Curve_both_08161710C_cold_rq_1.csv', './data/84_Cold/08161710C_cold/IV_Curve_both_08161710C_cold_rq_2.csv', './data/84_Cold/08161710C_cold/IV_Curve_both_08161710C_cold_rq_3.csv', './data/84_Cold/08161710C_cold/IV_Curve_both_08161710C_cold_rq_9.csv', './data/84_Cold/08161710C_cold/IV_Curve_both_08161710C_cold_rq_4.csv', './data/84_Cold/08191011D_cold/IV_Curve_both_08191011D_cold_rq_4.csv', './data/84_Cold/08191011D_cold/IV_Curve_both_08191011D_cold_rq_8.csv', './data/84_Cold/08191011D_cold/IV_Curve_both_08191011D_cold_rq_1.csv', './data/84_Cold/08191011D_cold/IV_Curve_both_08191011D_cold_rq_5.csv', './data/84_Cold/08191011D_cold/IV_Curve_both_08191011D_cold_rq_6.csv', './data/84_Cold/08191011D_cold/IV_Curve_both_08191011D_cold_rq_7.csv', './data/84_Cold/08191011D_cold/IV_Curve_both_08191011D_cold_rq_2.csv', './data/84_Cold/08191011D_cold/IV_Curve_both_08191011D_cold_rq_9.csv', './data/84_Cold/08191011D_cold/IV_Curve_both_08191011D_cold_rq_3.csv', './data/84_Cold/08141509E_cold/IV_Curve_both_08141509E_cold_rq_9.csv', './data/84_Cold/08141509E_cold/IV_Curve_both_08141509E_cold_rq_5.csv', './data/84_Cold/08141509E_cold/IV_Curve_both_08141509E_cold_rq_7.csv', './data/84_Cold/08141509E_cold/IV_Curve_both_08141509E_cold_rq_2.csv', './data/84_Cold/08141509E_cold/IV_Curve_both_08141509E_cold_rq_4.csv', './data/84_Cold/08141509E_cold/IV_Curve_both_08141509E_cold_rq_3.csv', './data/84_Cold/08141509E_cold/IV_Curve_both_08141509E_cold_rq_6.csv', './data/84_Cold/08141509E_cold/IV_Curve_both_08141509E_cold_rq_1.csv', './data/84_Cold/08141509E_cold/IV_Curve_both_08141509E_cold_rq_8.csv', './data/84_Cold/08161209B_cold/IV_Curve_both_08161209B_cold_rq_4.csv', './data/84_Cold/08161209B_cold/IV_Curve_both_08161209B_cold_rq_7.csv', './data/84_Cold/08161209B_cold/IV_Curve_both_08161209B_cold_rq_5.csv', './data/84_Cold/08161209B_cold/IV_Curve_both_08161209B_cold_rq_6.csv', './data/84_Cold/08161209B_cold/IV_Curve_both_08161209B_cold_rq_9.csv', './data/84_Cold/08161209B_cold/IV_Curve_both_08161209B_cold_rq_2.csv', './data/84_Cold/08161209B_cold/IV_Curve_both_08161209B_cold_rq_1.csv', './data/84_Cold/08161209B_cold/IV_Curve_both_08161209B_cold_rq_3.csv', './data/84_Cold/08161209B_cold/IV_Curve_both_08161209B_cold_rq_8.csv', './data/84_Cold/08191345F_cold/IV_Curve_both_08191345F_cold_rq_5.csv', './data/84_Cold/08191345F_cold/IV_Curve_both_08191345F_cold_rq_3.csv', './data/84_Cold/08191345F_cold/IV_Curve_both_08191345F_cold_rq_2.csv', './data/84_Cold/08191345F_cold/IV_Curve_both_08191345F_cold_rq_4.csv', './data/84_Cold/08191345F_cold/IV_Curve_both_08191345F_cold_rq_1.csv', './data/84_Cold/08191345F_cold/IV_Curve_both_08191345F_cold_rq_7.csv', './data/84_Cold/08191345F_cold/IV_Curve_both_08191345F_cold_rq_9.csv', './data/84_Cold/08191345F_cold/IV_Curve_both_08191345F_cold_rq_8.csv', './data/84_Cold/08191345F_cold/IV_Curve_both_08191345F_cold_rq_6.csv', './data/84_Cold/08161516A_cold/IV_Curve_both_08161516A_cold_rq_7.csv', './data/84_Cold/08161516A_cold/IV_Curve_both_08161516A_cold_rq_5.csv', './data/84_Cold/08161516A_cold/IV_Curve_both_08161516A_cold_rq_2.csv', './data/84_Cold/08161516A_cold/IV_Curve_both_08161516A_cold_rq_3.csv', './data/84_Cold/08161516A_cold/IV_Curve_both_08161516A_cold_rq_4.csv', './data/84_Cold/08161516A_cold/IV_Curve_both_08161516A_cold_rq_8.csv', './data/84_Cold/08161516A_cold/IV_Curve_both_08161516A_cold_rq_1.csv', './data/84_Cold/08161516A_cold/IV_Curve_both_08161516A_cold_rq_9.csv', './data/84_Cold/08161516A_cold/IV_Curve_both_08161516A_cold_rq_6.csv']\n",
      "              Rq        Std_Rq\n",
      "0   2.782905e+02  1.219005e+00\n",
      "1   2.644580e+02  1.224192e+00\n",
      "2   2.698975e+02  1.130978e+00\n",
      "3   7.936880e+11  2.941851e+13\n",
      "4   2.628914e+02  1.052416e+00\n",
      "5   2.802539e+02  1.096735e+00\n",
      "6   2.836159e+02  1.161744e+00\n",
      "7   4.696566e+10  9.179629e+10\n",
      "8   2.829165e+02  1.173757e+00\n",
      "9   2.912611e+02  1.088575e+00\n",
      "10  2.963690e+02  1.208383e+00\n",
      "11  2.824092e+02  1.170866e+00\n",
      "12  2.872376e+02  1.106270e+00\n",
      "13  2.839173e+02  1.028609e+00\n",
      "14  2.686622e+02  1.083336e+00\n",
      "15  3.006115e+02  1.217265e+00\n",
      "16  2.674663e+02  1.039001e+00\n",
      "17  2.925996e+02  1.168451e+00\n",
      "18  1.103041e+05  7.275116e+01\n",
      "19  1.406852e+02  5.412606e-01\n",
      "20  1.103143e+05  5.587701e+01\n",
      "21  2.800588e+02  1.118587e+00\n",
      "22  1.408089e+02  5.496902e-01\n",
      "23  2.749772e+02  1.040364e+00\n",
      "24  1.102419e+05  6.958377e+01\n",
      "25  2.654486e+02  1.022608e+00\n",
      "26  1.101928e+05  7.225412e+01\n",
      "27  2.855392e+02  1.135021e+00\n",
      "28  2.913797e+02  1.157247e+00\n",
      "29  2.950708e+02  1.153162e+00\n",
      "30  2.862759e+02  1.138106e+00\n",
      "31 -1.173456e+11  1.600976e+11\n",
      "32  2.692264e+02  1.049496e+00\n",
      "33  2.789252e+02  1.091791e+00\n",
      "34  2.917997e+02  1.195716e+00\n",
      "35 -1.124625e+11  1.218616e+11\n",
      "36  2.802403e+02  1.136750e+00\n",
      "37  2.722719e+02  1.091497e+00\n",
      "38  2.766874e+02  1.112576e+00\n",
      "39  2.801963e+02  1.132213e+00\n",
      "40  2.672486e+02  1.069347e+00\n",
      "41  2.761282e+02  1.131467e+00\n",
      "42  2.678749e+02  1.092216e+00\n",
      "43  2.927629e+02  1.184718e+00\n",
      "44  2.815356e+02  1.154250e+00\n",
      "45  2.804009e+02  1.191473e+00\n",
      "46  2.754533e+02  1.145111e+00\n",
      "47  2.615071e+02  1.065053e+00\n",
      "48  2.724712e+02  1.086264e+00\n",
      "49  2.754679e+02  1.126239e+00\n",
      "50  2.857065e+02  1.133352e+00\n",
      "51  2.862276e+02  1.114409e+00\n",
      "52  2.765563e+02  1.079032e+00\n",
      "53  2.755557e+02  1.127522e+00\n"
     ]
    },
    {
     "ename": "AttributeError",
     "evalue": "'DataFrame' object has no attribute 'concat'",
     "output_type": "error",
     "traceback": [
      "\u001b[0;31m---------------------------------------------------------------------------\u001b[0m",
      "\u001b[0;31mAttributeError\u001b[0m                            Traceback (most recent call last)",
      "\u001b[0;32m/tmp/ipykernel_99939/1922906484.py\u001b[0m in \u001b[0;36m?\u001b[0;34m()\u001b[0m\n\u001b[0;32m----> 1\u001b[0;31m \u001b[0marr\u001b[0m \u001b[0;34m=\u001b[0m \u001b[0mMeasurementsSiPMs\u001b[0m\u001b[0;34m(\u001b[0m\u001b[0mmeasurement\u001b[0m\u001b[0;34m=\u001b[0m\u001b[0;34m'rq'\u001b[0m\u001b[0;34m)\u001b[0m\u001b[0;34m\u001b[0m\u001b[0;34m\u001b[0m\u001b[0m\n\u001b[0m",
      "\u001b[0;32m/tmp/ipykernel_99939/3511752873.py\u001b[0m in \u001b[0;36m?\u001b[0;34m(folder, measurement)\u001b[0m\n\u001b[1;32m     53\u001b[0m         \u001b[0;34m'Std_Rq'\u001b[0m\u001b[0;34m:\u001b[0m \u001b[0mrq_measuments\u001b[0m\u001b[0;34m[\u001b[0m\u001b[0;34m:\u001b[0m\u001b[0;34m,\u001b[0m\u001b[0;36m1\u001b[0m\u001b[0;34m]\u001b[0m\u001b[0;34m,\u001b[0m\u001b[0;34m\u001b[0m\u001b[0;34m\u001b[0m\u001b[0m\n\u001b[1;32m     54\u001b[0m         \u001b[0;31m#'Current Std (A)': currents_stds,\u001b[0m\u001b[0;34m\u001b[0m\u001b[0;34m\u001b[0m\u001b[0m\n\u001b[1;32m     55\u001b[0m         \u001b[0;34m}\u001b[0m\u001b[0;34m)\u001b[0m\u001b[0;34m\u001b[0m\u001b[0;34m\u001b[0m\u001b[0m\n\u001b[1;32m     56\u001b[0m         \u001b[0mprint\u001b[0m\u001b[0;34m(\u001b[0m\u001b[0mdata\u001b[0m\u001b[0;34m)\u001b[0m\u001b[0;34m\u001b[0m\u001b[0;34m\u001b[0m\u001b[0m\n\u001b[0;32m---> 57\u001b[0;31m         \u001b[0mdf_append_rq\u001b[0m\u001b[0;34m.\u001b[0m\u001b[0mconcat\u001b[0m\u001b[0;34m(\u001b[0m\u001b[0mdata\u001b[0m\u001b[0;34m,\u001b[0m \u001b[0mignore_index\u001b[0m\u001b[0;34m=\u001b[0m\u001b[0;32mTrue\u001b[0m\u001b[0;34m)\u001b[0m\u001b[0;34m\u001b[0m\u001b[0;34m\u001b[0m\u001b[0m\n\u001b[0m\u001b[1;32m     58\u001b[0m \u001b[0;34m\u001b[0m\u001b[0m\n\u001b[1;32m     59\u001b[0m         \u001b[0;32mreturn\u001b[0m \u001b[0mfiltered_list\u001b[0m\u001b[0;34m\u001b[0m\u001b[0;34m\u001b[0m\u001b[0m\n\u001b[1;32m     60\u001b[0m     \u001b[0;32mif\u001b[0m \u001b[0mmeasurement\u001b[0m \u001b[0;34m==\u001b[0m \u001b[0;34m'vbd'\u001b[0m\u001b[0;34m:\u001b[0m\u001b[0;34m\u001b[0m\u001b[0;34m\u001b[0m\u001b[0m\n",
      "\u001b[0;32m~/.local/lib/python3.12/site-packages/pandas/core/generic.py\u001b[0m in \u001b[0;36m?\u001b[0;34m(self, name)\u001b[0m\n\u001b[1;32m   6295\u001b[0m             \u001b[0;32mand\u001b[0m \u001b[0mname\u001b[0m \u001b[0;32mnot\u001b[0m \u001b[0;32min\u001b[0m \u001b[0mself\u001b[0m\u001b[0;34m.\u001b[0m\u001b[0m_accessors\u001b[0m\u001b[0;34m\u001b[0m\u001b[0;34m\u001b[0m\u001b[0m\n\u001b[1;32m   6296\u001b[0m             \u001b[0;32mand\u001b[0m \u001b[0mself\u001b[0m\u001b[0;34m.\u001b[0m\u001b[0m_info_axis\u001b[0m\u001b[0;34m.\u001b[0m\u001b[0m_can_hold_identifiers_and_holds_name\u001b[0m\u001b[0;34m(\u001b[0m\u001b[0mname\u001b[0m\u001b[0;34m)\u001b[0m\u001b[0;34m\u001b[0m\u001b[0;34m\u001b[0m\u001b[0m\n\u001b[1;32m   6297\u001b[0m         \u001b[0;34m)\u001b[0m\u001b[0;34m:\u001b[0m\u001b[0;34m\u001b[0m\u001b[0;34m\u001b[0m\u001b[0m\n\u001b[1;32m   6298\u001b[0m             \u001b[0;32mreturn\u001b[0m \u001b[0mself\u001b[0m\u001b[0;34m[\u001b[0m\u001b[0mname\u001b[0m\u001b[0;34m]\u001b[0m\u001b[0;34m\u001b[0m\u001b[0;34m\u001b[0m\u001b[0m\n\u001b[0;32m-> 6299\u001b[0;31m         \u001b[0;32mreturn\u001b[0m \u001b[0mobject\u001b[0m\u001b[0;34m.\u001b[0m\u001b[0m__getattribute__\u001b[0m\u001b[0;34m(\u001b[0m\u001b[0mself\u001b[0m\u001b[0;34m,\u001b[0m \u001b[0mname\u001b[0m\u001b[0;34m)\u001b[0m\u001b[0;34m\u001b[0m\u001b[0;34m\u001b[0m\u001b[0m\n\u001b[0m",
      "\u001b[0;31mAttributeError\u001b[0m: 'DataFrame' object has no attribute 'concat'"
     ]
    }
   ],
   "source": [
    "arr = MeasurementsSiPMs(measurement='rq')"
   ]
  },
  {
   "cell_type": "code",
   "execution_count": 59,
   "metadata": {},
   "outputs": [
    {
     "name": "stdout",
     "output_type": "stream",
     "text": [
      "Slope: 1.0514285714285714\n",
      "Intercept: -0.02857142857142847\n",
      "R-squared: 0.9972312223858617\n",
      "Std: 0.02770102775666402\n"
     ]
    },
    {
     "data": {
      "image/png": "[encoded data removed]",
      "text/plain": [
       "<Figure size 640x480 with 1 Axes>"
      ]
     },
     "metadata": {},
     "output_type": "display_data"
    }
   ],
   "source": [
    "import numpy as np\n",
    "import matplotlib.pyplot as plt\n",
    "from scipy.stats import linregress\n",
    "\n",
    "# Example data\n",
    "x = np.array([0, 1, 2, 3, 4, 5])\n",
    "y = np.array([0, 1.1, 1.9, 3.2, 4.1, 5.3])\n",
    "\n",
    "# Perform linear regression\n",
    "slope, intercept, r_value, p_value, std_err = linregress(x, y)\n",
    "\n",
    "# Print the results\n",
    "print(f\"Slope: {slope}\")\n",
    "print(f\"Intercept: {intercept}\")\n",
    "print(f\"R-squared: {r_value**2}\")\n",
    "print(f\"Std: {std_err}\")\n",
    "\n",
    "# Plot the data and the linear fit\n",
    "plt.scatter(x, y, label='Data')\n",
    "plt.plot(x, slope * x + intercept, color='red', label='Fitted line')\n",
    "plt.xlabel('x')\n",
    "plt.ylabel('y')\n",
    "plt.title('Linear Regression')\n",
    "plt.legend()\n",
    "plt.show()\n"
   ]
  },
  {
   "cell_type": "code",
   "execution_count": null,
   "metadata": {},
   "outputs": [],
   "source": []
  }
 ],
 "metadata": {
  "kernelspec": {
   "display_name": "Python 3",
   "language": "python",
   "name": "python3"
  },
  "language_info": {
   "codemirror_mode": {
    "name": "ipython",
    "version": 3
   },
   "file_extension": ".py",
   "mimetype": "text/x-python",
   "name": "python",
   "nbconvert_exporter": "python",
   "pygments_lexer": "ipython3",
   "version": "3.12.3"
  }
 },
 "nbformat": 4,
 "nbformat_minor": 2
}
