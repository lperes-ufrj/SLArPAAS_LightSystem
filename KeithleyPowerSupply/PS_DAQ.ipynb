{
 "cells": [
  {
   "cell_type": "code",
   "execution_count": 4,
   "metadata": {},
   "outputs": [],
   "source": [
    "import os\n",
    "import serial   \n",
    "import numpy as np\n",
    "import matplotlib.pyplot as plt\n",
    "# Import necessary packages\n",
    "from pymeasure.instruments.keithley import Keithley2450\n",
    "import pyvisa\n",
    "import pandas as pd\n",
    "from time import sleep"
   ]
  },
  {
   "cell_type": "code",
   "execution_count": 5,
   "metadata": {},
   "outputs": [
    {
     "ename": "Exception",
     "evalue": "Timed out waiting for Keithley buffer to fill.",
     "output_type": "error",
     "traceback": [
      "\u001b[0;31m---------------------------------------------------------------------------\u001b[0m",
      "\u001b[0;31mException\u001b[0m                                 Traceback (most recent call last)",
      "Cell \u001b[0;32mIn[5], line 35\u001b[0m\n\u001b[1;32m     33\u001b[0m sourcemeter\u001b[38;5;241m.\u001b[39msource_voltage \u001b[38;5;241m=\u001b[39m voltages[i]\n\u001b[1;32m     34\u001b[0m sourcemeter\u001b[38;5;241m.\u001b[39mstart_buffer()\n\u001b[0;32m---> 35\u001b[0m \u001b[43msourcemeter\u001b[49m\u001b[38;5;241;43m.\u001b[39;49m\u001b[43mwait_for_buffer\u001b[49m\u001b[43m(\u001b[49m\u001b[43m)\u001b[49m\n\u001b[1;32m     36\u001b[0m \u001b[38;5;66;03m# Record the average and standard deviation\u001b[39;00m\n\u001b[1;32m     37\u001b[0m currents[i] \u001b[38;5;241m=\u001b[39m sourcemeter\u001b[38;5;241m.\u001b[39mmeans[\u001b[38;5;241m0\u001b[39m]\n",
      "File \u001b[0;32m~/.local/lib/python3.12/site-packages/pymeasure/instruments/keithley/buffer.py:91\u001b[0m, in \u001b[0;36mKeithleyBuffer.wait_for_buffer\u001b[0;34m(self, should_stop, timeout, interval)\u001b[0m\n\u001b[1;32m     89\u001b[0m     \u001b[38;5;28;01mreturn\u001b[39;00m\n\u001b[1;32m     90\u001b[0m \u001b[38;5;28;01mif\u001b[39;00m (time() \u001b[38;5;241m-\u001b[39m t) \u001b[38;5;241m>\u001b[39m timeout:\n\u001b[0;32m---> 91\u001b[0m     \u001b[38;5;28;01mraise\u001b[39;00m \u001b[38;5;167;01mException\u001b[39;00m(\u001b[38;5;124m\"\u001b[39m\u001b[38;5;124mTimed out waiting for Keithley buffer to fill.\u001b[39m\u001b[38;5;124m\"\u001b[39m)\n",
      "\u001b[0;31mException\u001b[0m: Timed out waiting for Keithley buffer to fill."
     ]
    }
   ],
   "source": [
    "\n",
    "# Set the input parameters\n",
    "data_points = 50\n",
    "averages = 10\n",
    "max_voltage = -50.\n",
    "min_voltage = -60.\n",
    "\n",
    "# Set source_voltage and measure_current parameters\n",
    "voltage_range = -57 # in Volts\n",
    "compliance_current = 100e-6  # in Amps\n",
    "measure_nplc = 0.1  # Number of power line cycles\n",
    "current_range = 10e-6  # in Amps\n",
    "\n",
    "# Connect and configure the instrument\n",
    "sourcemeter = Keithley2450(\"USB0::0x05e6::0x2450::04614968::INSTR\")\n",
    "#sourcemeter = Keithley2450(\"USB0::1510::9296::04614968::0::INSTR\")\n",
    "sourcemeter.reset()\n",
    "sourcemeter.use_front_terminals()\n",
    "sourcemeter.apply_voltage(voltage_range, compliance_current)\n",
    "sourcemeter.measure_current(measure_nplc, current_range)\n",
    "sleep(0.1)  # wait here to give the instrument time to react\n",
    "sourcemeter.stop_buffer()\n",
    "sourcemeter.disable_buffer()\n",
    "\n",
    "# Allocate arrays to store the measurement results\n",
    "voltages = np.linspace(min_voltage, max_voltage, num=data_points)\n",
    "currents = np.zeros_like(voltages)\n",
    "current_stds = np.zeros_like(voltages)\n",
    "\n",
    "sourcemeter.enable_source()\n",
    "# Loop through each current point, measure and record the voltage\n",
    "for i in range(data_points):\n",
    "    sourcemeter.config_buffer(averages)\n",
    "    sourcemeter.source_voltage = voltages[i]\n",
    "    sourcemeter.start_buffer()\n",
    "    sourcemeter.wait_for_buffer()\n",
    "    # Record the average and standard deviation\n",
    "    currents[i] = sourcemeter.means[0]\n",
    "    sleep(1.0)\n",
    "    current_stds[i] = sourcemeter.standard_devs[0]\n",
    "\n",
    "# Save the data columns in a CSV file\n",
    "data = pd.DataFrame({\n",
    "    'Current (A)': currents,\n",
    "    'Voltage (V)': voltages,\n",
    "    'Voltage Std (V)': current_stds})\n",
    "\n",
    "data.to_csv('example.csv')\n",
    "\n",
    "sourcemeter.shutdown()\n",
    "\n"
   ]
  },
  {
   "cell_type": "code",
   "execution_count": 7,
   "metadata": {},
   "outputs": [],
   "source": [
    "sourcemeter.shutdown()\n"
   ]
  },
  {
   "cell_type": "code",
   "execution_count": 9,
   "metadata": {},
   "outputs": [],
   "source": [
    "# Set the input parameters\n",
    "data_points = 50\n",
    "averages = 10\n",
    "max_current = 0.0\n",
    "min_current = -15e-6\n",
    "\n",
    "# Set source_current and measure_voltage parameters\n",
    "current_range = -10e-6  # in Amps\n",
    "compliance_voltage = 70  # in Volts\n",
    "measure_nplc = 0.1  # Number of power line cycles\n",
    "voltage_range = 0.5  # in VOlts\n",
    "\n",
    "# Connect and configure the instrument\n",
    "sourcemeter = Keithley2450(\"USB0::0x05e6::0x2450::04614968::INSTR\")\n",
    "sourcemeter.reset()\n",
    "sourcemeter.use_front_terminals()\n",
    "sourcemeter.apply_current(current_range, compliance_voltage)\n",
    "sourcemeter.measure_voltage(measure_nplc, voltage_range)\n",
    "sleep(0.1)  # wait here to give the instrument time to react\n",
    "sourcemeter.stop_buffer()\n",
    "sourcemeter.disable_buffer()\n",
    "\n"
   ]
  },
  {
   "cell_type": "code",
   "execution_count": 10,
   "metadata": {},
   "outputs": [
    {
     "ename": "ValueError",
     "evalue": "[Errno 19] No such device (it may have been disconnected)",
     "output_type": "error",
     "traceback": [
      "\u001b[0;31m---------------------------------------------------------------------------\u001b[0m",
      "\u001b[0;31mUSBError\u001b[0m                                  Traceback (most recent call last)",
      "File \u001b[0;32m~/.local/lib/python3.12/site-packages/pyvisa_py/protocols/usbtmc.py:280\u001b[0m, in \u001b[0;36mUSBRaw.write\u001b[0;34m(self, data)\u001b[0m\n\u001b[1;32m    279\u001b[0m \u001b[38;5;28;01mtry\u001b[39;00m:\n\u001b[0;32m--> 280\u001b[0m     \u001b[38;5;28;01mreturn\u001b[39;00m \u001b[38;5;28;43mself\u001b[39;49m\u001b[38;5;241;43m.\u001b[39;49m\u001b[43musb_send_ep\u001b[49m\u001b[38;5;241;43m.\u001b[39;49m\u001b[43mwrite\u001b[49m\u001b[43m(\u001b[49m\u001b[43mdata\u001b[49m\u001b[43m)\u001b[49m\n\u001b[1;32m    281\u001b[0m \u001b[38;5;28;01mexcept\u001b[39;00m usb\u001b[38;5;241m.\u001b[39mcore\u001b[38;5;241m.\u001b[39mUSBError \u001b[38;5;28;01mas\u001b[39;00m e:\n",
      "File \u001b[0;32m~/.local/lib/python3.12/site-packages/usb/core.py:408\u001b[0m, in \u001b[0;36mEndpoint.write\u001b[0;34m(self, data, timeout)\u001b[0m\n\u001b[1;32m    398\u001b[0m \u001b[38;5;250m\u001b[39m\u001b[38;5;124mr\u001b[39m\u001b[38;5;124;03m\"\"\"Write data to the endpoint.\u001b[39;00m\n\u001b[1;32m    399\u001b[0m \n\u001b[1;32m    400\u001b[0m \u001b[38;5;124;03mThe parameter data contains the data to be sent to the endpoint and\u001b[39;00m\n\u001b[0;32m   (...)\u001b[0m\n\u001b[1;32m    406\u001b[0m \u001b[38;5;124;03mFor details, see the Device.write() method.\u001b[39;00m\n\u001b[1;32m    407\u001b[0m \u001b[38;5;124;03m\"\"\"\u001b[39;00m\n\u001b[0;32m--> 408\u001b[0m \u001b[38;5;28;01mreturn\u001b[39;00m \u001b[38;5;28;43mself\u001b[39;49m\u001b[38;5;241;43m.\u001b[39;49m\u001b[43mdevice\u001b[49m\u001b[38;5;241;43m.\u001b[39;49m\u001b[43mwrite\u001b[49m\u001b[43m(\u001b[49m\u001b[38;5;28;43mself\u001b[39;49m\u001b[43m,\u001b[49m\u001b[43m \u001b[49m\u001b[43mdata\u001b[49m\u001b[43m,\u001b[49m\u001b[43m \u001b[49m\u001b[43mtimeout\u001b[49m\u001b[43m)\u001b[49m\n",
      "File \u001b[0;32m~/.local/lib/python3.12/site-packages/usb/core.py:989\u001b[0m, in \u001b[0;36mDevice.write\u001b[0;34m(self, endpoint, data, timeout)\u001b[0m\n\u001b[1;32m    987\u001b[0m fn \u001b[38;5;241m=\u001b[39m fn_map[util\u001b[38;5;241m.\u001b[39mendpoint_type(ep\u001b[38;5;241m.\u001b[39mbmAttributes)]\n\u001b[0;32m--> 989\u001b[0m \u001b[38;5;28;01mreturn\u001b[39;00m \u001b[43mfn\u001b[49m\u001b[43m(\u001b[49m\n\u001b[1;32m    990\u001b[0m \u001b[43m        \u001b[49m\u001b[38;5;28;43mself\u001b[39;49m\u001b[38;5;241;43m.\u001b[39;49m\u001b[43m_ctx\u001b[49m\u001b[38;5;241;43m.\u001b[39;49m\u001b[43mhandle\u001b[49m\u001b[43m,\u001b[49m\n\u001b[1;32m    991\u001b[0m \u001b[43m        \u001b[49m\u001b[43mep\u001b[49m\u001b[38;5;241;43m.\u001b[39;49m\u001b[43mbEndpointAddress\u001b[49m\u001b[43m,\u001b[49m\n\u001b[1;32m    992\u001b[0m \u001b[43m        \u001b[49m\u001b[43mintf\u001b[49m\u001b[38;5;241;43m.\u001b[39;49m\u001b[43mbInterfaceNumber\u001b[49m\u001b[43m,\u001b[49m\n\u001b[1;32m    993\u001b[0m \u001b[43m        \u001b[49m\u001b[43m_interop\u001b[49m\u001b[38;5;241;43m.\u001b[39;49m\u001b[43mas_array\u001b[49m\u001b[43m(\u001b[49m\u001b[43mdata\u001b[49m\u001b[43m)\u001b[49m\u001b[43m,\u001b[49m\n\u001b[1;32m    994\u001b[0m \u001b[43m        \u001b[49m\u001b[38;5;28;43mself\u001b[39;49m\u001b[38;5;241;43m.\u001b[39;49m\u001b[43m__get_timeout\u001b[49m\u001b[43m(\u001b[49m\u001b[43mtimeout\u001b[49m\u001b[43m)\u001b[49m\n\u001b[1;32m    995\u001b[0m \u001b[43m    \u001b[49m\u001b[43m)\u001b[49m\n",
      "File \u001b[0;32m~/.local/lib/python3.12/site-packages/usb/backend/libusb1.py:837\u001b[0m, in \u001b[0;36m_LibUSB.bulk_write\u001b[0;34m(self, dev_handle, ep, intf, data, timeout)\u001b[0m\n\u001b[1;32m    835\u001b[0m \u001b[38;5;129m@methodtrace\u001b[39m(_logger)\n\u001b[1;32m    836\u001b[0m \u001b[38;5;28;01mdef\u001b[39;00m \u001b[38;5;21mbulk_write\u001b[39m(\u001b[38;5;28mself\u001b[39m, dev_handle, ep, intf, data, timeout):\n\u001b[0;32m--> 837\u001b[0m     \u001b[38;5;28;01mreturn\u001b[39;00m \u001b[38;5;28;43mself\u001b[39;49m\u001b[38;5;241;43m.\u001b[39;49m\u001b[43m__write\u001b[49m\u001b[43m(\u001b[49m\u001b[38;5;28;43mself\u001b[39;49m\u001b[38;5;241;43m.\u001b[39;49m\u001b[43mlib\u001b[49m\u001b[38;5;241;43m.\u001b[39;49m\u001b[43mlibusb_bulk_transfer\u001b[49m\u001b[43m,\u001b[49m\n\u001b[1;32m    838\u001b[0m \u001b[43m                        \u001b[49m\u001b[43mdev_handle\u001b[49m\u001b[43m,\u001b[49m\n\u001b[1;32m    839\u001b[0m \u001b[43m                        \u001b[49m\u001b[43mep\u001b[49m\u001b[43m,\u001b[49m\n\u001b[1;32m    840\u001b[0m \u001b[43m                        \u001b[49m\u001b[43mintf\u001b[49m\u001b[43m,\u001b[49m\n\u001b[1;32m    841\u001b[0m \u001b[43m                        \u001b[49m\u001b[43mdata\u001b[49m\u001b[43m,\u001b[49m\n\u001b[1;32m    842\u001b[0m \u001b[43m                        \u001b[49m\u001b[43mtimeout\u001b[49m\u001b[43m)\u001b[49m\n",
      "File \u001b[0;32m~/.local/lib/python3.12/site-packages/usb/backend/libusb1.py:938\u001b[0m, in \u001b[0;36m_LibUSB.__write\u001b[0;34m(self, fn, dev_handle, ep, intf, data, timeout)\u001b[0m\n\u001b[1;32m    937\u001b[0m \u001b[38;5;28;01mif\u001b[39;00m \u001b[38;5;129;01mnot\u001b[39;00m (transferred\u001b[38;5;241m.\u001b[39mvalue \u001b[38;5;129;01mand\u001b[39;00m retval \u001b[38;5;241m==\u001b[39m LIBUSB_ERROR_TIMEOUT):\n\u001b[0;32m--> 938\u001b[0m     \u001b[43m_check\u001b[49m\u001b[43m(\u001b[49m\u001b[43mretval\u001b[49m\u001b[43m)\u001b[49m\n\u001b[1;32m    940\u001b[0m \u001b[38;5;28;01mreturn\u001b[39;00m transferred\u001b[38;5;241m.\u001b[39mvalue\n",
      "File \u001b[0;32m~/.local/lib/python3.12/site-packages/usb/backend/libusb1.py:604\u001b[0m, in \u001b[0;36m_check\u001b[0;34m(ret)\u001b[0m\n\u001b[1;32m    603\u001b[0m     \u001b[38;5;28;01melse\u001b[39;00m:\n\u001b[0;32m--> 604\u001b[0m         \u001b[38;5;28;01mraise\u001b[39;00m USBError(_strerror(ret), ret, _libusb_errno[ret])\n\u001b[1;32m    606\u001b[0m \u001b[38;5;28;01mreturn\u001b[39;00m ret\n",
      "\u001b[0;31mUSBError\u001b[0m: [Errno 19] No such device (it may have been disconnected)",
      "\nDuring handling of the above exception, another exception occurred:\n",
      "\u001b[0;31mValueError\u001b[0m                                Traceback (most recent call last)",
      "Cell \u001b[0;32mIn[10], line 13\u001b[0m\n\u001b[1;32m     11\u001b[0m sourcemeter\u001b[38;5;241m.\u001b[39msource_current \u001b[38;5;241m=\u001b[39m currents[i]\n\u001b[1;32m     12\u001b[0m sourcemeter\u001b[38;5;241m.\u001b[39mstart_buffer()\n\u001b[0;32m---> 13\u001b[0m \u001b[43msourcemeter\u001b[49m\u001b[38;5;241;43m.\u001b[39;49m\u001b[43mwait_for_buffer\u001b[49m\u001b[43m(\u001b[49m\u001b[43m)\u001b[49m\n\u001b[1;32m     14\u001b[0m \u001b[38;5;66;03m# Record the average and standard deviation\u001b[39;00m\n\u001b[1;32m     15\u001b[0m voltages[i] \u001b[38;5;241m=\u001b[39m sourcemeter\u001b[38;5;241m.\u001b[39mmeans[\u001b[38;5;241m0\u001b[39m]\n",
      "File \u001b[0;32m~/.local/lib/python3.12/site-packages/pymeasure/instruments/keithley/buffer.py:86\u001b[0m, in \u001b[0;36mKeithleyBuffer.wait_for_buffer\u001b[0;34m(self, should_stop, timeout, interval)\u001b[0m\n\u001b[1;32m     83\u001b[0m \u001b[38;5;66;03m# TODO: Use SRQ initially instead of constant polling\u001b[39;00m\n\u001b[1;32m     84\u001b[0m \u001b[38;5;66;03m# self.adapter.wait_for_srq()\u001b[39;00m\n\u001b[1;32m     85\u001b[0m t \u001b[38;5;241m=\u001b[39m time()\n\u001b[0;32m---> 86\u001b[0m \u001b[38;5;28;01mwhile\u001b[39;00m \u001b[38;5;129;01mnot\u001b[39;00m \u001b[38;5;28;43mself\u001b[39;49m\u001b[38;5;241;43m.\u001b[39;49m\u001b[43mis_buffer_full\u001b[49m\u001b[43m(\u001b[49m\u001b[43m)\u001b[49m:\n\u001b[1;32m     87\u001b[0m     sleep(interval)\n\u001b[1;32m     88\u001b[0m     \u001b[38;5;28;01mif\u001b[39;00m should_stop():\n",
      "File \u001b[0;32m~/.local/lib/python3.12/site-packages/pymeasure/instruments/keithley/buffer.py:70\u001b[0m, in \u001b[0;36mKeithleyBuffer.is_buffer_full\u001b[0;34m(self)\u001b[0m\n\u001b[1;32m     68\u001b[0m \u001b[38;5;28;01mdef\u001b[39;00m \u001b[38;5;21mis_buffer_full\u001b[39m(\u001b[38;5;28mself\u001b[39m):\n\u001b[1;32m     69\u001b[0m \u001b[38;5;250m    \u001b[39m\u001b[38;5;124;03m\"\"\" Returns True if the buffer is full of measurements. \"\"\"\u001b[39;00m\n\u001b[0;32m---> 70\u001b[0m     status_byte \u001b[38;5;241m=\u001b[39m \u001b[38;5;28mint\u001b[39m(\u001b[38;5;28;43mself\u001b[39;49m\u001b[38;5;241;43m.\u001b[39;49m\u001b[43mask\u001b[49m\u001b[43m(\u001b[49m\u001b[38;5;124;43m\"\u001b[39;49m\u001b[38;5;124;43m*STB?\u001b[39;49m\u001b[38;5;124;43m\"\u001b[39;49m\u001b[43m)\u001b[49m)\n\u001b[1;32m     71\u001b[0m     \u001b[38;5;28;01mreturn\u001b[39;00m (status_byte \u001b[38;5;241m&\u001b[39m \u001b[38;5;241m65\u001b[39m) \u001b[38;5;241m==\u001b[39m \u001b[38;5;241m65\u001b[39m\n",
      "File \u001b[0;32m~/.local/lib/python3.12/site-packages/pymeasure/instruments/common_base.py:385\u001b[0m, in \u001b[0;36mCommonBase.ask\u001b[0;34m(self, command, query_delay)\u001b[0m\n\u001b[1;32m    378\u001b[0m \u001b[38;5;28;01mdef\u001b[39;00m \u001b[38;5;21mask\u001b[39m(\u001b[38;5;28mself\u001b[39m, command, query_delay\u001b[38;5;241m=\u001b[39m\u001b[38;5;28;01mNone\u001b[39;00m):\n\u001b[1;32m    379\u001b[0m \u001b[38;5;250m    \u001b[39m\u001b[38;5;124;03m\"\"\"Write a command to the instrument and return the read response.\u001b[39;00m\n\u001b[1;32m    380\u001b[0m \n\u001b[1;32m    381\u001b[0m \u001b[38;5;124;03m    :param command: Command string to be sent to the instrument.\u001b[39;00m\n\u001b[1;32m    382\u001b[0m \u001b[38;5;124;03m    :param query_delay: Delay between writing and reading in seconds.\u001b[39;00m\n\u001b[1;32m    383\u001b[0m \u001b[38;5;124;03m    :returns: String returned by the device without read_termination.\u001b[39;00m\n\u001b[1;32m    384\u001b[0m \u001b[38;5;124;03m    \"\"\"\u001b[39;00m\n\u001b[0;32m--> 385\u001b[0m     \u001b[38;5;28;43mself\u001b[39;49m\u001b[38;5;241;43m.\u001b[39;49m\u001b[43mwrite\u001b[49m\u001b[43m(\u001b[49m\u001b[43mcommand\u001b[49m\u001b[43m)\u001b[49m\n\u001b[1;32m    386\u001b[0m     \u001b[38;5;28mself\u001b[39m\u001b[38;5;241m.\u001b[39mwait_for(query_delay)\n\u001b[1;32m    387\u001b[0m     \u001b[38;5;28;01mreturn\u001b[39;00m \u001b[38;5;28mself\u001b[39m\u001b[38;5;241m.\u001b[39mread()\n",
      "File \u001b[0;32m~/.local/lib/python3.12/site-packages/pymeasure/instruments/instrument.py:165\u001b[0m, in \u001b[0;36mInstrument.write\u001b[0;34m(self, command, **kwargs)\u001b[0m\n\u001b[1;32m    159\u001b[0m \u001b[38;5;28;01mdef\u001b[39;00m \u001b[38;5;21mwrite\u001b[39m(\u001b[38;5;28mself\u001b[39m, command, \u001b[38;5;241m*\u001b[39m\u001b[38;5;241m*\u001b[39mkwargs):\n\u001b[1;32m    160\u001b[0m \u001b[38;5;250m    \u001b[39m\u001b[38;5;124;03m\"\"\"Write a string command to the instrument appending `write_termination`.\u001b[39;00m\n\u001b[1;32m    161\u001b[0m \n\u001b[1;32m    162\u001b[0m \u001b[38;5;124;03m    :param command: command string to be sent to the instrument\u001b[39;00m\n\u001b[1;32m    163\u001b[0m \u001b[38;5;124;03m    :param kwargs: Keyword arguments for the adapter.\u001b[39;00m\n\u001b[1;32m    164\u001b[0m \u001b[38;5;124;03m    \"\"\"\u001b[39;00m\n\u001b[0;32m--> 165\u001b[0m     \u001b[38;5;28;43mself\u001b[39;49m\u001b[38;5;241;43m.\u001b[39;49m\u001b[43madapter\u001b[49m\u001b[38;5;241;43m.\u001b[39;49m\u001b[43mwrite\u001b[49m\u001b[43m(\u001b[49m\u001b[43mcommand\u001b[49m\u001b[43m,\u001b[49m\u001b[43m \u001b[49m\u001b[38;5;241;43m*\u001b[39;49m\u001b[38;5;241;43m*\u001b[39;49m\u001b[43mkwargs\u001b[49m\u001b[43m)\u001b[49m\n",
      "File \u001b[0;32m~/.local/lib/python3.12/site-packages/pymeasure/adapters/adapter.py:87\u001b[0m, in \u001b[0;36mAdapter.write\u001b[0;34m(self, command, **kwargs)\u001b[0m\n\u001b[1;32m     78\u001b[0m \u001b[38;5;250m\u001b[39m\u001b[38;5;124;03m\"\"\"Write a string command to the instrument appending `write_termination`.\u001b[39;00m\n\u001b[1;32m     79\u001b[0m \n\u001b[1;32m     80\u001b[0m \u001b[38;5;124;03mDo not override in a subclass!\u001b[39;00m\n\u001b[0;32m   (...)\u001b[0m\n\u001b[1;32m     84\u001b[0m \u001b[38;5;124;03m:param \\\\**kwargs: Keyword arguments for the connection itself.\u001b[39;00m\n\u001b[1;32m     85\u001b[0m \u001b[38;5;124;03m\"\"\"\u001b[39;00m\n\u001b[1;32m     86\u001b[0m \u001b[38;5;28mself\u001b[39m\u001b[38;5;241m.\u001b[39mlog\u001b[38;5;241m.\u001b[39mdebug(\u001b[38;5;124m\"\u001b[39m\u001b[38;5;124mWRITE:\u001b[39m\u001b[38;5;132;01m%s\u001b[39;00m\u001b[38;5;124m\"\u001b[39m, command)\n\u001b[0;32m---> 87\u001b[0m \u001b[38;5;28;43mself\u001b[39;49m\u001b[38;5;241;43m.\u001b[39;49m\u001b[43m_write\u001b[49m\u001b[43m(\u001b[49m\u001b[43mcommand\u001b[49m\u001b[43m,\u001b[49m\u001b[43m \u001b[49m\u001b[38;5;241;43m*\u001b[39;49m\u001b[38;5;241;43m*\u001b[39;49m\u001b[43mkwargs\u001b[49m\u001b[43m)\u001b[49m\n",
      "File \u001b[0;32m~/.local/lib/python3.12/site-packages/pymeasure/adapters/visa.py:156\u001b[0m, in \u001b[0;36mVISAAdapter._write\u001b[0;34m(self, command, **kwargs)\u001b[0m\n\u001b[1;32m    149\u001b[0m \u001b[38;5;28;01mdef\u001b[39;00m \u001b[38;5;21m_write\u001b[39m(\u001b[38;5;28mself\u001b[39m, command, \u001b[38;5;241m*\u001b[39m\u001b[38;5;241m*\u001b[39mkwargs):\n\u001b[1;32m    150\u001b[0m \u001b[38;5;250m    \u001b[39m\u001b[38;5;124;03m\"\"\"Write a string command to the instrument appending `write_termination`.\u001b[39;00m\n\u001b[1;32m    151\u001b[0m \n\u001b[1;32m    152\u001b[0m \u001b[38;5;124;03m    :param str command: Command string to be sent to the instrument\u001b[39;00m\n\u001b[1;32m    153\u001b[0m \u001b[38;5;124;03m        (without termination).\u001b[39;00m\n\u001b[1;32m    154\u001b[0m \u001b[38;5;124;03m    :param \\\\**kwargs: Keyword arguments for the connection itself.\u001b[39;00m\n\u001b[1;32m    155\u001b[0m \u001b[38;5;124;03m    \"\"\"\u001b[39;00m\n\u001b[0;32m--> 156\u001b[0m     \u001b[38;5;28;43mself\u001b[39;49m\u001b[38;5;241;43m.\u001b[39;49m\u001b[43mconnection\u001b[49m\u001b[38;5;241;43m.\u001b[39;49m\u001b[43mwrite\u001b[49m\u001b[43m(\u001b[49m\u001b[43mcommand\u001b[49m\u001b[43m,\u001b[49m\u001b[43m \u001b[49m\u001b[38;5;241;43m*\u001b[39;49m\u001b[38;5;241;43m*\u001b[39;49m\u001b[43mkwargs\u001b[49m\u001b[43m)\u001b[49m\n",
      "File \u001b[0;32m~/.local/lib/python3.12/site-packages/pyvisa/resources/messagebased.py:196\u001b[0m, in \u001b[0;36mMessageBasedResource.write\u001b[0;34m(self, message, termination, encoding)\u001b[0m\n\u001b[1;32m    190\u001b[0m         warnings\u001b[38;5;241m.\u001b[39mwarn(\n\u001b[1;32m    191\u001b[0m             \u001b[38;5;124m\"\u001b[39m\u001b[38;5;124mwrite message already ends with \u001b[39m\u001b[38;5;124m\"\u001b[39m \u001b[38;5;124m\"\u001b[39m\u001b[38;5;124mtermination characters\u001b[39m\u001b[38;5;124m\"\u001b[39m,\n\u001b[1;32m    192\u001b[0m             stacklevel\u001b[38;5;241m=\u001b[39m\u001b[38;5;241m2\u001b[39m,\n\u001b[1;32m    193\u001b[0m         )\n\u001b[1;32m    194\u001b[0m     message \u001b[38;5;241m+\u001b[39m\u001b[38;5;241m=\u001b[39m term\n\u001b[0;32m--> 196\u001b[0m count \u001b[38;5;241m=\u001b[39m \u001b[38;5;28;43mself\u001b[39;49m\u001b[38;5;241;43m.\u001b[39;49m\u001b[43mwrite_raw\u001b[49m\u001b[43m(\u001b[49m\u001b[43mmessage\u001b[49m\u001b[38;5;241;43m.\u001b[39;49m\u001b[43mencode\u001b[49m\u001b[43m(\u001b[49m\u001b[43menco\u001b[49m\u001b[43m)\u001b[49m\u001b[43m)\u001b[49m\n\u001b[1;32m    198\u001b[0m \u001b[38;5;28;01mreturn\u001b[39;00m count\n",
      "File \u001b[0;32m~/.local/lib/python3.12/site-packages/pyvisa/resources/messagebased.py:156\u001b[0m, in \u001b[0;36mMessageBasedResource.write_raw\u001b[0;34m(self, message)\u001b[0m\n\u001b[1;32m    142\u001b[0m \u001b[38;5;28;01mdef\u001b[39;00m \u001b[38;5;21mwrite_raw\u001b[39m(\u001b[38;5;28mself\u001b[39m, message: \u001b[38;5;28mbytes\u001b[39m) \u001b[38;5;241m-\u001b[39m\u001b[38;5;241m>\u001b[39m \u001b[38;5;28mint\u001b[39m:\n\u001b[1;32m    143\u001b[0m \u001b[38;5;250m    \u001b[39m\u001b[38;5;124;03m\"\"\"Write a byte message to the device.\u001b[39;00m\n\u001b[1;32m    144\u001b[0m \n\u001b[1;32m    145\u001b[0m \u001b[38;5;124;03m    Parameters\u001b[39;00m\n\u001b[0;32m   (...)\u001b[0m\n\u001b[1;32m    154\u001b[0m \n\u001b[1;32m    155\u001b[0m \u001b[38;5;124;03m    \"\"\"\u001b[39;00m\n\u001b[0;32m--> 156\u001b[0m     \u001b[38;5;28;01mreturn\u001b[39;00m \u001b[38;5;28;43mself\u001b[39;49m\u001b[38;5;241;43m.\u001b[39;49m\u001b[43mvisalib\u001b[49m\u001b[38;5;241;43m.\u001b[39;49m\u001b[43mwrite\u001b[49m\u001b[43m(\u001b[49m\u001b[38;5;28;43mself\u001b[39;49m\u001b[38;5;241;43m.\u001b[39;49m\u001b[43msession\u001b[49m\u001b[43m,\u001b[49m\u001b[43m \u001b[49m\u001b[43mmessage\u001b[49m\u001b[43m)\u001b[49m[\u001b[38;5;241m0\u001b[39m]\n",
      "File \u001b[0;32m~/.local/lib/python3.12/site-packages/pyvisa_py/highlevel.py:544\u001b[0m, in \u001b[0;36mPyVisaLibrary.write\u001b[0;34m(self, session, data)\u001b[0m\n\u001b[1;32m    542\u001b[0m \u001b[38;5;66;03m# from the session handle, dispatch to the write method of the session object.\u001b[39;00m\n\u001b[1;32m    543\u001b[0m \u001b[38;5;28;01mtry\u001b[39;00m:\n\u001b[0;32m--> 544\u001b[0m     written, status_code \u001b[38;5;241m=\u001b[39m \u001b[38;5;28;43mself\u001b[39;49m\u001b[38;5;241;43m.\u001b[39;49m\u001b[43msessions\u001b[49m\u001b[43m[\u001b[49m\u001b[43msession\u001b[49m\u001b[43m]\u001b[49m\u001b[38;5;241;43m.\u001b[39;49m\u001b[43mwrite\u001b[49m\u001b[43m(\u001b[49m\u001b[43mdata\u001b[49m\u001b[43m)\u001b[49m\n\u001b[1;32m    545\u001b[0m \u001b[38;5;28;01mexcept\u001b[39;00m \u001b[38;5;167;01mKeyError\u001b[39;00m:\n\u001b[1;32m    546\u001b[0m     \u001b[38;5;28;01mreturn\u001b[39;00m \u001b[38;5;241m0\u001b[39m, \u001b[38;5;28mself\u001b[39m\u001b[38;5;241m.\u001b[39mhandle_return_value(session, StatusCode\u001b[38;5;241m.\u001b[39merror_invalid_object)\n",
      "File \u001b[0;32m~/.local/lib/python3.12/site-packages/pyvisa_py/usb.py:198\u001b[0m, in \u001b[0;36mUSBSession.write\u001b[0;34m(self, data)\u001b[0m\n\u001b[1;32m    179\u001b[0m \u001b[38;5;250m\u001b[39m\u001b[38;5;124;03m\"\"\"Writes data to device or interface synchronously.\u001b[39;00m\n\u001b[1;32m    180\u001b[0m \n\u001b[1;32m    181\u001b[0m \u001b[38;5;124;03mCorresponds to viWrite function of the VISA library.\u001b[39;00m\n\u001b[0;32m   (...)\u001b[0m\n\u001b[1;32m    194\u001b[0m \n\u001b[1;32m    195\u001b[0m \u001b[38;5;124;03m\"\"\"\u001b[39;00m\n\u001b[1;32m    196\u001b[0m send_end, _ \u001b[38;5;241m=\u001b[39m \u001b[38;5;28mself\u001b[39m\u001b[38;5;241m.\u001b[39mget_attribute(ResourceAttribute\u001b[38;5;241m.\u001b[39msend_end_enabled)\n\u001b[0;32m--> 198\u001b[0m count \u001b[38;5;241m=\u001b[39m \u001b[38;5;28;43mself\u001b[39;49m\u001b[38;5;241;43m.\u001b[39;49m\u001b[43minterface\u001b[49m\u001b[38;5;241;43m.\u001b[39;49m\u001b[43mwrite\u001b[49m\u001b[43m(\u001b[49m\u001b[43mdata\u001b[49m\u001b[43m)\u001b[49m\n\u001b[1;32m    200\u001b[0m \u001b[38;5;28;01mreturn\u001b[39;00m count, StatusCode\u001b[38;5;241m.\u001b[39msuccess\n",
      "File \u001b[0;32m~/.local/lib/python3.12/site-packages/pyvisa_py/protocols/usbtmc.py:453\u001b[0m, in \u001b[0;36mUSBTMC.write\u001b[0;34m(self, data)\u001b[0m\n\u001b[1;32m    450\u001b[0m     eom \u001b[38;5;241m=\u001b[39m end \u001b[38;5;241m>\u001b[39m\u001b[38;5;241m=\u001b[39m size\n\u001b[1;32m    451\u001b[0m     data \u001b[38;5;241m=\u001b[39m BulkOutMessage\u001b[38;5;241m.\u001b[39mbuild_array(\u001b[38;5;28mself\u001b[39m\u001b[38;5;241m.\u001b[39m_btag, eom, data[begin:end])\n\u001b[0;32m--> 453\u001b[0m     bytes_sent \u001b[38;5;241m+\u001b[39m\u001b[38;5;241m=\u001b[39m \u001b[43mraw_write\u001b[49m\u001b[43m(\u001b[49m\u001b[43mdata\u001b[49m\u001b[43m)\u001b[49m\n\u001b[1;32m    455\u001b[0m \u001b[38;5;28;01mreturn\u001b[39;00m size\n",
      "File \u001b[0;32m~/.local/lib/python3.12/site-packages/pyvisa_py/protocols/usbtmc.py:282\u001b[0m, in \u001b[0;36mUSBRaw.write\u001b[0;34m(self, data)\u001b[0m\n\u001b[1;32m    280\u001b[0m     \u001b[38;5;28;01mreturn\u001b[39;00m \u001b[38;5;28mself\u001b[39m\u001b[38;5;241m.\u001b[39musb_send_ep\u001b[38;5;241m.\u001b[39mwrite(data)\n\u001b[1;32m    281\u001b[0m \u001b[38;5;28;01mexcept\u001b[39;00m usb\u001b[38;5;241m.\u001b[39mcore\u001b[38;5;241m.\u001b[39mUSBError \u001b[38;5;28;01mas\u001b[39;00m e:\n\u001b[0;32m--> 282\u001b[0m     \u001b[38;5;28;01mraise\u001b[39;00m \u001b[38;5;167;01mValueError\u001b[39;00m(\u001b[38;5;28mstr\u001b[39m(e))\n",
      "\u001b[0;31mValueError\u001b[0m: [Errno 19] No such device (it may have been disconnected)"
     ]
    }
   ],
   "source": [
    "# Allocate arrays to store the measurement results\n",
    "currents = np.linspace(min_current, max_current, num=data_points)\n",
    "voltages = np.zeros_like(currents)\n",
    "voltage_stds = np.zeros_like(currents)\n",
    "\n",
    "sourcemeter.enable_source()\n",
    "\n",
    "# Loop through each current point, measure and record the voltage\n",
    "for i in range(data_points):\n",
    "    sourcemeter.config_buffer(averages)\n",
    "    sourcemeter.source_current = currents[i]\n",
    "    sourcemeter.start_buffer()\n",
    "    sourcemeter.wait_for_buffer()\n",
    "    # Record the average and standard deviation\n",
    "    voltages[i] = sourcemeter.means[0]\n",
    "    sleep(1.0)\n",
    "    voltage_stds[i] = sourcemeter.standard_devs[0]\n",
    "\n",
    "# Save the data columns in a CSV file\n",
    "data = pd.DataFrame({\n",
    "    'Current (A)': currents,\n",
    "    'Voltage (V)': voltages,\n",
    "    'Voltage Std (V)': voltage_stds,\n",
    "})\n",
    "data.to_csv('example.csv')\n",
    "\n",
    "sourcemeter.shutdown()"
   ]
  },
  {
   "cell_type": "code",
   "execution_count": null,
   "metadata": {},
   "outputs": [],
   "source": []
  }
 ],
 "metadata": {
  "kernelspec": {
   "display_name": "Python 3",
   "language": "python",
   "name": "python3"
  },
  "language_info": {
   "codemirror_mode": {
    "name": "ipython",
    "version": 3
   },
   "file_extension": ".py",
   "mimetype": "text/x-python",
   "name": "python",
   "nbconvert_exporter": "python",
   "pygments_lexer": "ipython3",
   "version": "3.12.3"
  }
 },
 "nbformat": 4,
 "nbformat_minor": 2
}
